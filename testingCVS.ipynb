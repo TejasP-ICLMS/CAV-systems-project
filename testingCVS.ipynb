{
 "cells": [
  {
   "cell_type": "code",
   "execution_count": 2,
   "metadata": {},
   "outputs": [],
   "source": [
    "ah = 0.2\n",
    "bh = 0.4\n",
    "k = -0.2912416558\n",
    "a = 1\n",
    "b1 = 0\n",
    "b2 = 0\n",
    "cccDelay = 0.5\n",
    "humanDelay = 1\n",
    "\n",
    "L = np.matrix([[0, 0, 0, 0, 0, 0], \n",
    "              [0, 0, 0, 0, 0, 0],\n",
    "              [0, 0, 0, 0, 0, 0],\n",
    "              [-1, 1, 0, 0, 0, 0],\n",
    "              [0, -1, 1, 0, 0, 0],\n",
    "              [1, 0, -1, 0, 0, 0]])\n",
    "P = np.matrix([[0, 0, 0, 0, 0, 0],\n",
    "              [0, -(ah + bh), bh, 0, ah * k, 0],\n",
    "              [bh, 0, -(ah + bh), 0, 0, ah * k],\n",
    "              [0, 0, 0, 0, 0, 0],\n",
    "              [0, 0, 0, 0, 0, 0],\n",
    "              [0, 0, 0, 0, 0, 0]])\n",
    "R = np.matrix([[-(a + b1 + b2), b1, b2, a * k, 0, 0],\n",
    "              [0, 0, 0, 0, 0, 0],\n",
    "              [0, 0, 0, 0, 0, 0],\n",
    "              [0, 0, 0, 0, 0, 0],\n",
    "              [0, 0, 0, 0, 0, 0],\n",
    "              [0, 0, 0, 0, 0, 0]])\n",
    "I = np.matrix([[1, 0, 0, 1, 0, 0],\n",
    "              [0, 1, 0, 0, 1, 0],\n",
    "              [0, 0, 1, 0, 0, 1],\n",
    "              [1, 0, 0, 1, 0, 0],\n",
    "              [0, 1, 0, 0, 1, 0],\n",
    "              [0, 0, 1, 0, 0, 1]])"
   ]
  },
  {
   "cell_type": "code",
   "execution_count": 7,
   "metadata": {},
   "outputs": [
    {
     "name": "stdout",
     "output_type": "stream",
     "text": [
      "0.0009214480332330431\n"
     ]
    }
   ],
   "source": [
    "import numpy as np\n",
    "def f(gamma):\n",
    "    return np.linalg.det((gamma * I) - L - (P * (np.exp(1) ** (-gamma * humanDelay))) - (R * (np.exp(1) ** (-gamma * cccDelay))))\n",
    "\n",
    "print(abs(f(-0.546875-0.234375j)))"
   ]
  }
 ],
 "metadata": {
  "kernelspec": {
   "display_name": "Python 3",
   "language": "python",
   "name": "python3"
  },
  "language_info": {
   "codemirror_mode": {
    "name": "ipython",
    "version": 3
   },
   "file_extension": ".py",
   "mimetype": "text/x-python",
   "name": "python",
   "nbconvert_exporter": "python",
   "pygments_lexer": "ipython3",
   "version": "3.9.5"
  }
 },
 "nbformat": 4,
 "nbformat_minor": 2
}
