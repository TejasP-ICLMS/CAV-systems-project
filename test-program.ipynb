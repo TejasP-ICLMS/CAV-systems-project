{
 "cells": [
  {
   "cell_type": "code",
   "execution_count": 2,
   "metadata": {},
   "outputs": [],
   "source": [
    "import numpy as np\n",
    "import matplotlib.pyplot as plt\n",
    "import math\n",
    "from copy import deepcopy\n",
    "ah = 0.2\n",
    "bh = 0.4\n",
    "k = -0.2912416558\n",
    "a = 1\n",
    "b1 = 0\n",
    "b2 = 0\n",
    "cccDelay = 0.8\n",
    "humanDelay = 1\n",
    "fineness = 0.0001\n",
    "\n",
    "def f(gamma):\n",
    "    return np.linalg.det((gamma * I) - L - (P * (np.exp(1) ** (-gamma * humanDelay))) - (R * (np.exp(1) ** (-gamma * cccDelay))))\n",
    "\n",
    "L = np.matrix([[0, 0, 0, 0, 0, 0], \n",
    "              [0, 0, 0, 0, 0, 0],\n",
    "              [0, 0, 0, 0, 0, 0],\n",
    "              [-1, 1, 0, 0, 0, 0],\n",
    "              [0, -1, 1, 0, 0, 0],\n",
    "              [1, 0, -1, 0, 0, 0]])\n",
    "P = np.matrix([[0, 0, 0, 0, 0, 0],\n",
    "              [0, -(ah + bh), bh, 0, ah * k, 0],\n",
    "              [bh, 0, -(ah + bh), 0, 0, ah * k],\n",
    "              [0, 0, 0, 0, 0, 0],\n",
    "              [0, 0, 0, 0, 0, 0],\n",
    "              [0, 0, 0, 0, 0, 0]])\n",
    "R = np.matrix([[-(a + b1 + b2), b1, b2, a * k, 0, 0],\n",
    "              [0, 0, 0, 0, 0, 0],\n",
    "              [0, 0, 0, 0, 0, 0],\n",
    "              [0, 0, 0, 0, 0, 0],\n",
    "              [0, 0, 0, 0, 0, 0],\n",
    "              [0, 0, 0, 0, 0, 0]])\n",
    "I = np.matrix([[1, 0, 0, 1, 0, 0],\n",
    "              [0, 1, 0, 0, 1, 0],\n",
    "              [0, 0, 1, 0, 0, 1],\n",
    "              [1, 0, 0, 1, 0, 0],\n",
    "              [0, 1, 0, 0, 1, 0],\n",
    "              [0, 0, 1, 0, 0, 1]])"
   ]
  },
  {
   "cell_type": "code",
   "execution_count": 15,
   "metadata": {},
   "outputs": [
    {
     "name": "stdout",
     "output_type": "stream",
     "text": [
      "0.21373689071862267\n"
     ]
    }
   ],
   "source": [
    "print(abs(f(0.75 + 0.375j)))"
   ]
  }
 ],
 "metadata": {
  "kernelspec": {
   "display_name": "Python 3",
   "language": "python",
   "name": "python3"
  },
  "language_info": {
   "codemirror_mode": {
    "name": "ipython",
    "version": 3
   },
   "file_extension": ".py",
   "mimetype": "text/x-python",
   "name": "python",
   "nbconvert_exporter": "python",
   "pygments_lexer": "ipython3",
   "version": "3.10.11"
  }
 },
 "nbformat": 4,
 "nbformat_minor": 2
}
